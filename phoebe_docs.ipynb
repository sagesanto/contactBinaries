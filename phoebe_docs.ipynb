{
 "cells": [
  {
   "cell_type": "code",
   "execution_count": 5,
   "metadata": {},
   "outputs": [
    {
     "data": {
      "text/plain": [
       "<ParameterSet: 80 parameters | contexts: dataset, compute, figure, constraint>"
      ]
     },
     "execution_count": 5,
     "metadata": {},
     "output_type": "execute_result"
    }
   ],
   "source": [
    "#imports and initialize loggers (class that code will call on?)\n",
    "import phoebe\n",
    "from phoebe import u # units\n",
    "import numpy as np\n",
    "import matplotlib.pyplot as plt\n",
    "import pandas as pd\n",
    "import datetime\n",
    "\n",
    "logger = phoebe.logger()\n",
    "\n",
    "b = phoebe.default_binary(contact_binary=True) #this sets to the default data, and can add \"contact_binary=True\" but not necessary\n",
    "b.add_dataset('lc', times=np.linspace(6589.5,6590.5,200), dataset='mylc') #adding time for LC\n",
    "#overwrite\n",
    "#b.add_dataset(phoebe.dataset.orb, times=np.linspace(0,10,20), dataset='orb01', component=['primary', 'secondary'])\n",
    "#now we want to find a way to convert the epochs / have it start at a certain time\n"
   ]
  },
  {
   "cell_type": "code",
   "execution_count": 7,
   "metadata": {},
   "outputs": [
    {
     "name": "stdout",
     "output_type": "stream",
     "text": [
      "{'_in_constraints': ['YuqWSDTErqEeTWDuaJJETrUNNZcudh', 'fiajSOVluJwDnbRLCGxkHwqePdbfil', 'hQJIBdXtwtrTjYyADZVshoPWTgyXCb', 'laMrdXeYqgyKajqLPdwfHZwWQMUZpV'], '_is_constraint': None, '_description': 'Equivalent radius', '_readonly': False, '_advanced': False, '_bundle': <PHOEBE Bundle: 184 parameters | contexts: dataset, component, constraint, compute, setting, system, figure>, '_value': <Quantity 1.5 solRad>, '_uniqueid': 'ZCkKHWwDidKYymKstdgaUfAuvvWUED', '_qualifier': 'requiv', '_time': None, '_feature': None, '_component': 'primary', '_dataset': None, '_figure': None, '_server': None, '_constraint': None, '_distribution': None, '_compute': None, '_model': None, '_solver': None, '_solution': None, '_kind': 'star', '_context': 'component', '_latexfmt': 'R_{{ \\\\mathrm{{ equiv }}, \\\\mathrm{{ {component} }} }}', '_copy_for': False, '_visible_if': None, '_dict_fields_other': ['description', 'value', 'quantity', 'default_unit', 'limits', 'visible_if', 'copy_for', 'readonly', 'advanced', 'latexfmt'], '_dict_fields': ['time', 'qualifier', 'feature', 'component', 'dataset', 'constraint', 'distribution', 'compute', 'model', 'solver', 'solution', 'figure', 'server', 'kind', 'context', 'twig', 'uniquetwig', 'uniqueid', 'description', 'value', 'quantity', 'default_unit', 'limits', 'visible_if', 'copy_for', 'readonly', 'advanced', 'latexfmt'], '_default_unit': Unit(\"solRad\"), '_limits': [<Quantity 1.e-06 solRad>, None], '_timederiv': None}\n"
     ]
    }
   ],
   "source": [
    "print(b.get_parameter(qualifier='requiv', component='primary', context='component').__dict__)"
   ]
  },
  {
   "cell_type": "code",
   "execution_count": 49,
   "metadata": {},
   "outputs": [],
   "source": [
    "import os\n",
    "tags = [\"kind\", \"figure\", \"component\", \"feature\", \"dataset\", \"distribution\", \"compute\", \"model\", \"solver\", \"solution\", \"time\", \"qualifier\"]\n",
    "outfile = \"phoebe_terms.txt\"\n",
    "if os.path.exists(outfile):\n",
    "    os.remove(outfile)\n",
    "for context in b.contexts:\n",
    "    print(\"context:\", context, file=open(outfile, \"a\"))\n",
    "    for tag in tags:\n",
    "        attrs = getattr(b.filter(context=context), tag+\"s\")\n",
    "        # print(context,tag,attrs)\n",
    "        if attrs:\n",
    "            print(f\"\\tBy '{tag}' with possible values: {', '.join(attrs)}\", file=open(outfile, \"a\"))\n",
    "            for attr in attrs:\n",
    "                params = b.filter(context=context).filter(**{tag:attr})._params\n",
    "                used = []\n",
    "                for p in params:\n",
    "                    t = f\"{(p._qualifier+'@'+attr+'@'+context).replace(f'{attr}@{attr}',f'{attr}')}: {p._description}\".strip()\n",
    "                    if t not in used:\n",
    "                        used.append(t)\n",
    "                print(\"\\t\\t\",\"\\n\\t\\t\".join(used), file=open(outfile, \"a\"))\n",
    "    \n",
    "#print(b.filter(context=context).filter(qualifier='teff'))\n",
    "# print(b.get_parameter(qualifier='teffratio',component='binary', context='component').constrained_by)"
   ]
  },
  {
   "cell_type": "code",
   "execution_count": null,
   "metadata": {},
   "outputs": [],
   "source": []
  }
 ],
 "metadata": {
  "kernelspec": {
   "display_name": "venv",
   "language": "python",
   "name": "python3"
  },
  "language_info": {
   "codemirror_mode": {
    "name": "ipython",
    "version": 3
   },
   "file_extension": ".py",
   "mimetype": "text/x-python",
   "name": "python",
   "nbconvert_exporter": "python",
   "pygments_lexer": "ipython3",
   "version": "3.10.12"
  }
 },
 "nbformat": 4,
 "nbformat_minor": 2
}
